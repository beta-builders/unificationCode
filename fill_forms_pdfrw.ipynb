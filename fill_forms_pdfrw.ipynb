{
 "cells": [
  {
   "cell_type": "code",
   "execution_count": 1,
   "metadata": {},
   "outputs": [],
   "source": [
    "import pdfrw"
   ]
  },
  {
   "cell_type": "code",
   "execution_count": 2,
   "metadata": {},
   "outputs": [
    {
     "data": {
      "text/plain": [
       "{'name': 'John Smith', 'qnumber': '123'}"
      ]
     },
     "execution_count": 2,
     "metadata": {},
     "output_type": "execute_result"
    }
   ],
   "source": [
    "data = {\"name\": \"John Smith\", \"qnumber\": \"123\"}\n",
    "data"
   ]
  },
  {
   "cell_type": "code",
   "execution_count": 3,
   "metadata": {},
   "outputs": [],
   "source": [
    "def form_filler(in_path, data, out_path):\n",
    "    pdf = pdfrw.PdfReader(in_path)\n",
    "    for page in pdf.pages:\n",
    "        annotations = page['/Annots']\n",
    "        if annotations is None:\n",
    "            continue\n",
    "\n",
    "        for annotation in annotations:\n",
    "            if annotation['/Subtype'] == '/Widget':\n",
    "                key = str(annotation['/T'].to_unicode())\n",
    "                if key in data:\n",
    "                    print(data[key])\n",
    "                    pdfstr = pdfrw.objects.pdfstring.PdfString.encode(data[key])\n",
    "                    annotation.update(pdfrw.PdfDict(V=pdfstr, Ff=1))\n",
    "                    annotation.update(pdfrw.PdfDict(Ff=1))\n",
    "                    # annotation.update(pdfrw.PdfDict(V='{}'.format(data[key])))\n",
    "                    # annotation.update(pdfrw.PdfDict(Ff=1)) # \n",
    "        pdf.Root.AcroForm.update(\n",
    "            pdfrw.PdfDict(NeedAppearances=pdfrw.PdfObject('true')))\n",
    "        pdfrw.PdfWriter().write(out_path, pdf)"
   ]
  },
  {
   "cell_type": "code",
   "execution_count": 4,
   "metadata": {},
   "outputs": [
    {
     "name": "stdout",
     "output_type": "stream",
     "text": [
      "John Smith\n",
      "123\n"
     ]
    }
   ],
   "source": [
    "form_filler('sample_form.pdf', data, 'filled-out-pdfrw.pdf')\n",
    "# How to change the text font?\n",
    "# Why is it asking to save changes?\n",
    "#I'm having a similar problem. Using the Ff=1 flag does set the annotation as read only but not for all viewers. For example on Foxit Reader this works but on MacOS Preview the fields can still be edited. Is there a workaround for this?\n",
    "# Permissions,can someone edit the file?"
   ]
  }
 ],
 "metadata": {
  "kernelspec": {
   "display_name": "Python 3",
   "language": "python",
   "name": "python3"
  },
  "language_info": {
   "codemirror_mode": {
    "name": "ipython",
    "version": 3
   },
   "file_extension": ".py",
   "mimetype": "text/x-python",
   "name": "python",
   "nbconvert_exporter": "python",
   "pygments_lexer": "ipython3",
   "version": "3.10.7"
  },
  "orig_nbformat": 4,
  "vscode": {
   "interpreter": {
    "hash": "369f2c481f4da34e4445cda3fffd2e751bd1c4d706f27375911949ba6bb62e1c"
   }
  }
 },
 "nbformat": 4,
 "nbformat_minor": 2
}
